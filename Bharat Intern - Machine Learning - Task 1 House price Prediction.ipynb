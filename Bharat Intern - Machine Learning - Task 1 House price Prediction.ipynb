{
 "cells": [
  {
   "cell_type": "code",
   "execution_count": 1,
   "id": "0bf773af",
   "metadata": {},
   "outputs": [],
   "source": [
    "#House Price Prediction : Machine Learning model to predict house price using linear regression only\n",
    "#Jupyter notebook code."
   ]
  },
  {
   "cell_type": "code",
   "execution_count": 2,
   "id": "5a22b75c",
   "metadata": {},
   "outputs": [],
   "source": [
    "# Import necessary libraries\n",
    "import pandas as pd\n",
    "import numpy as np\n",
    "import matplotlib.pyplot as plt\n",
    "from sklearn.model_selection import train_test_split\n",
    "from sklearn.linear_model import LinearRegression\n",
    "from sklearn.metrics import mean_squared_error, r2_score"
   ]
  },
  {
   "cell_type": "code",
   "execution_count": 6,
   "id": "0684faeb",
   "metadata": {},
   "outputs": [],
   "source": [
    "# Load your dataset (replace 'dataset.csv' with your dataset file)\n",
    "data = pd.read_csv('A:/Downloads/bharat intern/house.csv')"
   ]
  },
  {
   "cell_type": "code",
   "execution_count": 7,
   "id": "2fcc42d3",
   "metadata": {},
   "outputs": [],
   "source": [
    "# Assuming your dataset has columns 'square_feet' and 'price'. Adjust as needed.\n",
    "X = data[['area','bedrooms','bathrooms','stories']]\n",
    "y = data['price']"
   ]
  },
  {
   "cell_type": "code",
   "execution_count": 8,
   "id": "32dfe5db",
   "metadata": {},
   "outputs": [],
   "source": [
    "# Split the data into training and testing sets\n",
    "X_train, X_test, y_train, y_test = train_test_split(X, y, test_size=0.2, random_state=42)"
   ]
  },
  {
   "cell_type": "code",
   "execution_count": 9,
   "id": "6cfe6649",
   "metadata": {},
   "outputs": [
    {
     "data": {
      "text/plain": [
       "LinearRegression()"
      ]
     },
     "execution_count": 9,
     "metadata": {},
     "output_type": "execute_result"
    }
   ],
   "source": [
    "# Create and train the linear regression model\n",
    "model = LinearRegression()\n",
    "model.fit(X_train, y_train)"
   ]
  },
  {
   "cell_type": "code",
   "execution_count": 10,
   "id": "22187dbb",
   "metadata": {},
   "outputs": [],
   "source": [
    "# Make predictions\n",
    "y_pred = model.predict(X_test)"
   ]
  },
  {
   "cell_type": "code",
   "execution_count": 11,
   "id": "2f8e1318",
   "metadata": {},
   "outputs": [],
   "source": [
    "# Evaluate the model\n",
    "mse = mean_squared_error(y_test, y_pred)\n",
    "r2 = r2_score(y_test, y_pred)"
   ]
  },
  {
   "cell_type": "code",
   "execution_count": 12,
   "id": "24a7ed6b",
   "metadata": {},
   "outputs": [
    {
     "name": "stdout",
     "output_type": "stream",
     "text": [
      "Enter property details for price prediction:\n",
      "Area (in square feet): 800\n",
      "Number of bedrooms: 5\n",
      "Number of bathrooms: 5\n",
      "Number of stories: 2\n"
     ]
    }
   ],
   "source": [
    "# User input for prediction\n",
    "print(\"Enter property details for price prediction:\")\n",
    "area = float(input(\"Area (in square feet): \"))\n",
    "bedrooms = int(input(\"Number of bedrooms: \"))\n",
    "bathrooms = int(input(\"Number of bathrooms: \"))\n",
    "stories = int(input(\"Number of stories: \"))"
   ]
  },
  {
   "cell_type": "code",
   "execution_count": 13,
   "id": "a6e9c158",
   "metadata": {},
   "outputs": [
    {
     "name": "stdout",
     "output_type": "stream",
     "text": [
      "Predicted house price: $8346765.15\n"
     ]
    }
   ],
   "source": [
    "user_input = [[area, bedrooms, bathrooms, stories]]\n",
    "predicted_price = model.predict(user_input)\n",
    "print(f'Predicted house price: ${predicted_price[0]:.2f}')"
   ]
  },
  {
   "cell_type": "code",
   "execution_count": 14,
   "id": "4cafd730",
   "metadata": {},
   "outputs": [
    {
     "data": {
      "text/plain": [
       "<matplotlib.legend.Legend at 0x255e2551fa0>"
      ]
     },
     "execution_count": 14,
     "metadata": {},
     "output_type": "execute_result"
    },
    {
     "data": {
      "image/png": "[encoded data removed]",
      "text/plain": [
       "<Figure size 432x288 with 1 Axes>"
      ]
     },
     "metadata": {
      "needs_background": "light"
     },
     "output_type": "display_data"
    }
   ],
   "source": [
    "# Create a scatter plot for actual vs. predicted prices\n",
    "plt.scatter(y_test, y_pred, color='blue', alpha=0.7)\n",
    "plt.plot([min(y_test), max(y_test)], [min(y_test), max(y_test)], linestyle='--', color='red', label='Regression Line')\n",
    "plt.xlabel('Actual Prices')\n",
    "plt.ylabel('Predicted Prices')\n",
    "plt.title('Actual vs. Predicted House Prices')\n",
    "plt.grid(True)\n",
    "plt.legend()"
   ]
  },
  {
   "cell_type": "code",
   "execution_count": null,
   "id": "0a0171f8",
   "metadata": {},
   "outputs": [],
   "source": []
  }
 ],
 "metadata": {
  "kernelspec": {
   "display_name": "Python 3 (ipykernel)",
   "language": "python",
   "name": "python3"
  },
  "language_info": {
   "codemirror_mode": {
    "name": "ipython",
    "version": 3
   },
   "file_extension": ".py",
   "mimetype": "text/x-python",
   "name": "python",
   "nbconvert_exporter": "python",
   "pygments_lexer": "ipython3",
   "version": "3.9.7"
  }
 },
 "nbformat": 4,
 "nbformat_minor": 5
}
