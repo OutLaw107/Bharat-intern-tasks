{
 "cells": [
  {
   "cell_type": "code",
   "execution_count": 7,
   "id": "2318608d",
   "metadata": {
    "scrolled": false
   },
   "outputs": [],
   "source": [
    "#Iris Flowers Classification :Predict the different species of flowers on the length of there petals and sepals.\n",
    "#Jupyter notebook code."
   ]
  },
  {
   "cell_type": "code",
   "execution_count": 8,
   "id": "13d83ebd",
   "metadata": {},
   "outputs": [],
   "source": [
    "# Import libraries\n",
    "import numpy as np\n",
    "import pandas as pd\n",
    "import matplotlib.pyplot as plt\n",
    "from sklearn.linear_model import LinearRegression\n",
    "from sklearn.datasets import load_iris"
   ]
  },
  {
   "cell_type": "code",
   "execution_count": 9,
   "id": "f99c655e",
   "metadata": {},
   "outputs": [],
   "source": [
    "# Load the Iris dataset\n",
    "iris = load_iris()\n",
    "data = pd.DataFrame(data=np.c_[iris['data'], iris['target']], columns=iris['feature_names'] + ['target'])"
   ]
  },
  {
   "cell_type": "code",
   "execution_count": 10,
   "id": "2bdb1173",
   "metadata": {},
   "outputs": [],
   "source": [
    "# Convert target values to numerical values (0, 1, 2)\n",
    "data['target'] = data['target'].astype(int)"
   ]
  },
  {
   "cell_type": "code",
   "execution_count": 11,
   "id": "426f605d",
   "metadata": {},
   "outputs": [],
   "source": [
    "# Prepare the data\n",
    "X = data[['sepal length (cm)', 'petal length (cm)']]\n",
    "y = data['target']"
   ]
  },
  {
   "cell_type": "code",
   "execution_count": 12,
   "id": "ad494601",
   "metadata": {},
   "outputs": [
    {
     "data": {
      "text/plain": [
       "LinearRegression()"
      ]
     },
     "execution_count": 12,
     "metadata": {},
     "output_type": "execute_result"
    }
   ],
   "source": [
    "# Create and train a linear regression model\n",
    "regression_model = LinearRegression()\n",
    "regression_model.fit(X, y)"
   ]
  },
  {
   "cell_type": "code",
   "execution_count": 13,
   "id": "93f79da6",
   "metadata": {},
   "outputs": [],
   "source": [
    "# Function to predict the species based on sepal and petal length\n",
    "def predict_species(sepal_length, petal_length):\n",
    "    features = np.array([[sepal_length, petal_length]])\n",
    "    predicted_species = regression_model.predict(features)\n",
    "    return int(round(predicted_species[0]))"
   ]
  },
  {
   "cell_type": "code",
   "execution_count": 14,
   "id": "4dfc3cc2",
   "metadata": {},
   "outputs": [],
   "source": [
    "# Function to map numerical labels back to species names\n",
    "def map_to_species(label):\n",
    "    species_mapping = {0: 'Setosa', 1: 'Versicolor', 2: 'Virginica'}\n",
    "    return species_mapping[label]"
   ]
  },
  {
   "cell_type": "code",
   "execution_count": 15,
   "id": "2ca73adb",
   "metadata": {},
   "outputs": [
    {
     "name": "stdout",
     "output_type": "stream",
     "text": [
      "Enter sepal length (cm): 5\n",
      "Enter petal length (cm): 3\n"
     ]
    }
   ],
   "source": [
    "# Input sepal and petal lengths\n",
    "sepal_length = float(input(\"Enter sepal length (cm): \"))\n",
    "petal_length = float(input(\"Enter petal length (cm): \"))"
   ]
  },
  {
   "cell_type": "code",
   "execution_count": 16,
   "id": "03a295db",
   "metadata": {},
   "outputs": [
    {
     "name": "stdout",
     "output_type": "stream",
     "text": [
      "Predicted species based on input: Versicolor\n"
     ]
    }
   ],
   "source": [
    "# Predict the species\n",
    "predicted_label = predict_species(sepal_length, petal_length)\n",
    "predicted_species = map_to_species(predicted_label)\n",
    "\n",
    "print(f\"Predicted species based on input: {predicted_species}\")"
   ]
  },
  {
   "cell_type": "code",
   "execution_count": null,
   "id": "29f1fc58",
   "metadata": {},
   "outputs": [],
   "source": []
  }
 ],
 "metadata": {
  "kernelspec": {
   "display_name": "Python 3 (ipykernel)",
   "language": "python",
   "name": "python3"
  },
  "language_info": {
   "codemirror_mode": {
    "name": "ipython",
    "version": 3
   },
   "file_extension": ".py",
   "mimetype": "text/x-python",
   "name": "python",
   "nbconvert_exporter": "python",
   "pygments_lexer": "ipython3",
   "version": "3.9.7"
  }
 },
 "nbformat": 4,
 "nbformat_minor": 5
}
